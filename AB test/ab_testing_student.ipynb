{
 "cells": [
  {
   "cell_type": "markdown",
   "metadata": {
    "id": "OhktdhxBK61a"
   },
   "source": [
    "# Сравнительная аналитика\n",
    "\n",
    "В рамках ноутбука поговорим про основные подходы к оценке отличий в выборках"
   ]
  },
  {
   "cell_type": "markdown",
   "metadata": {
    "id": "v1wUAGqaK61c"
   },
   "source": [
    "## 1. Освежим t-Распределение Стьюдента\n",
    "\n",
    "Распределение Стьюдента по сути представляет собой сумму нескольких нормально распределенных случайных величин. Чем больше величин, тем больше верятность, что их сумма будет иметь нормальное распределение. Таким образом, количество суммируемых величин определяет важнейший параметр формы данного распредения - число степеней свободы.\n",
    "\n",
    "Для начала посмотрим на внешний вид распределения при разных значениях степени свободы"
   ]
  },
  {
   "cell_type": "code",
   "execution_count": 1,
   "metadata": {
    "colab": {
     "base_uri": "https://localhost:8080/"
    },
    "executionInfo": {
     "elapsed": 2277,
     "status": "ok",
     "timestamp": 1698092397109,
     "user": {
      "displayName": "Дмитрий Перец",
      "userId": "01071617569948781035"
     },
     "user_tz": -180
    },
    "id": "3JuQ8PlJMW6q",
    "outputId": "ed4e9233-9d0b-44a2-ebf8-54dd8fec7e5e"
   },
   "outputs": [
    {
     "ename": "ModuleNotFoundError",
     "evalue": "No module named 'google'",
     "output_type": "error",
     "traceback": [
      "\u001b[1;31m---------------------------------------------------------------------------\u001b[0m",
      "\u001b[1;31mModuleNotFoundError\u001b[0m                       Traceback (most recent call last)",
      "Cell \u001b[1;32mIn[1], line 2\u001b[0m\n\u001b[0;32m      1\u001b[0m \u001b[38;5;66;03m# Для работы с файлами с гугл диска\u001b[39;00m\n\u001b[1;32m----> 2\u001b[0m \u001b[38;5;28;01mfrom\u001b[39;00m \u001b[38;5;21;01mgoogle\u001b[39;00m\u001b[38;5;21;01m.\u001b[39;00m\u001b[38;5;21;01mcolab\u001b[39;00m \u001b[38;5;28;01mimport\u001b[39;00m drive\n\u001b[0;32m      3\u001b[0m drive\u001b[38;5;241m.\u001b[39mmount(\u001b[38;5;124m'\u001b[39m\u001b[38;5;124m/content/drive\u001b[39m\u001b[38;5;124m'\u001b[39m)\n",
      "\u001b[1;31mModuleNotFoundError\u001b[0m: No module named 'google'"
     ]
    }
   ],
   "source": [
    "# Для работы с файлами с гугл диска\n",
    "from google.colab import drive\n",
    "drive.mount('/content/drive')"
   ]
  },
  {
   "cell_type": "code",
   "execution_count": null,
   "metadata": {
    "colab": {
     "base_uri": "https://localhost:8080/",
     "height": 452
    },
    "executionInfo": {
     "elapsed": 723,
     "status": "ok",
     "timestamp": 1698092379075,
     "user": {
      "displayName": "Дмитрий Перец",
      "userId": "01071617569948781035"
     },
     "user_tz": -180
    },
    "id": "cJ3GerBoK61d",
    "outputId": "255ca541-b55b-4af8-a99b-b47bb415d554"
   },
   "outputs": [],
   "source": [
    "# модули для генерации точек из нормального и t-распределения\n",
    "from scipy.stats import t, norm\n",
    "# библиотека для работы с матрицами\n",
    "import numpy as np\n",
    "# библиотека для визуализации\n",
    "import matplotlib.pyplot as plt\n",
    "\n",
    "x = np.linspace(-5, 5, 1000) # зададим диапазон для случайно величины\n",
    "\n",
    "# получим значения плотности вероятности для t-распределений\n",
    "y1, y2, y3, y4 = t.pdf(x, df=1), t.pdf(x, df=5), t.pdf(x, df=10), t.pdf(x, df=15)\n",
    "# получим значения плотности вероятности для нормального распределения\n",
    "y4 = norm.pdf(x)\n",
    "\n",
    "plt.title('t-распределение и нормальное')\n",
    "plt.plot(x, y1)\n",
    "plt.plot(x, y2)\n",
    "plt.plot(x, y3)\n",
    "plt.plot(x, y4)\n",
    "plt.plot(x, y4, 'b:')\n",
    "plt.legend(('df=1', 'df=5', 'df=11', 'df=15', 'gaus'))\n",
    "plt.show()"
   ]
  },
  {
   "cell_type": "markdown",
   "metadata": {
    "id": "xC9cRdnyK61e"
   },
   "source": [
    "### Подробнее про нормальное и распределение Стьюдента\n",
    "\n",
    "Вернемся к предельной центральной теореме, мы уже узнали, что если некий признак в генеральной совокупности распределен по **нормальноу закону** со средним $\\mu$ и стандартным отклонением $\\sigma$, и мы будем многократно извлекать выборки одинакового размера n, и для каждой выборки рассчитывать, как далеко выборочное среднее $\\bar{X}$ отклонилось от среднего в генеральной совокупности в единицах стандартной ошибки среднего:\n",
    "\n",
    "$$Z = \\frac{\\bar{X} - \\mu}{\\frac{\\sigma}{\\sqrt{n}}}$$\n",
    "\n",
    "тогда эта величина z будет иметь *стандартное* нормальное распределение со $\\mu$ равным нулю и $\\sigma$ равным единице.\n",
    "\n",
    "Важно, что для расчета стандартной ошибки используется $\\sigma$ ГС (генеральной совокупности). Т.к. ГС почти никогда недоступна, то в расчет берется оценка стандартной ошибки или выборочная стандартная ошибка.\n",
    "\n",
    "В этом случае, корректнее описывать при помощи t-распределения\n",
    "\n",
    "$$\\large t = \\frac{\\bar{X} - \\mu}{\\frac{sd}{\\sqrt{n}}}$$\n",
    "\n",
    "таким образом, в случае неизвестной $\\sigma$ мы **всегда будем иметь дело с t-распределением**."
   ]
  },
  {
   "cell_type": "markdown",
   "metadata": {
    "id": "pbpHfCc2K61e"
   },
   "source": [
    "## 2. Идея статистического вывода, p-уровень значимости\n",
    "\n",
    "Статистический вывод — обобщение информации из выборки для получения представления о свойствах ГС.\n",
    "\n",
    "В статистическом выводе на основе случайной выборки делаются предположения относительно генеральной совокупности, используя данные о ней. В более общем смысле, данные о некотором случайном процессе, полученные из его наблюдения в течение конечного промежутка времени. Результатом статистического вывода является статистическое суждение, например: точечная оценка, доверительный интервал, отвержение гипотезы.\n",
    "\n",
    "Проверка статистических гипотез является содержанием одного из обширных классов задач математической статистики. Статистическая гипотеза — предположение о виде распределения и свойствах случайной величины, которое можно подтвердить или опровергнуть применением статистических методов к данным выборки.\n",
    "\n",
    "Эксперимент – записываются предсказания, генерируются события, проверяется правильность предсказаний.\n",
    "\n",
    "Основная или нулевая гипотеза $H_0$ - это гипотеза, которой мы придерживаемся, которую мы принимаем до тех пор, пока данные не заставят нас думать, что эта гипотеза невалидна. Ей всегда сопутствует альтернативная гипотеза $H_1$.\n",
    "\n",
    "Важно отметить следующее: статистические методы не позволяют доказать гипотезу. По наблюдениям, которыми мы располагаем, мы можем гипотезу опровергнуть.\n",
    "\n",
    "Чтобы определиться, когда гипотезу отвергать, а когда не отвергать, введем еще два понятия.\n",
    "\n",
    "<img src='img/error_types.jpeg'/>\n",
    "\n",
    "**Ошибка первого рода** - это ситуация, когда $H_0$ отвергается, хотя она, на самом деле, верна.\n",
    "\n",
    "**Ошибка второго рода** - это ситуация, когда $H_0$ принимается, хотя она неверна.\n",
    "\n",
    "Буквой $\\alpha$ обозначается уровень значимости или вероятность ошибки первого рода. Буквой $\\beta$ - вероятность ошибки второго рода.\n",
    "Мощностью статистического критерия называется вероятность не совершить ошибку второго рода, то есть $1 − \\beta$.\n",
    "\n",
    "<img src='img/errors_stat_tests.png'/>\n",
    "\n",
    "Но на основании чего мы будем отвергать гипотезу? **Критическая область** - область значений статистики критерия, при которых отвергается $H_0$. А критические значения - это граница критической области. Т.е., посчитав статистику критерия и проверив с пороговым значением критической области, мы можем сделать вывод об отвержении или не отвержении нулевой гипотезы.\n",
    "\n",
    "<img src='img/critical_area.png'/>\n",
    "\n",
    "Таким образом, собрав все знания про то, что такое статистические тесты, давайте опишем как выглядит процедура проверки гипотезы:\n",
    "1.\tСформулировать основную и альтернативную гипотезы и задать уровень значимости α.\n",
    "2.\tНайти критические значения и построить критическую область.\n",
    "3.\tВычислить по выборке значение статистики (p-value) и посмотреть, попало ли оно в критическую область.\n",
    "4.\tСделать вывод. Если значение p-value попало в критическую область, то основная гипотеза отвергается, в противном случае, не отвергается.\n",
    "\n",
    "\n",
    "### Проверка гипотез\n",
    "Имеется некоторая выборка размера $n$ из случайной величины $Х$, которая имеет неизвестное распределение $P$:\n",
    "$$X^n=(X_1, \\dots, X_n), X \\sim P$$\n",
    "Имеются следующие гипотезы об этом распределении $P$:\n",
    "- Нулевая гипотеза $H_0$ – например, $P$ лежит в некотором семействе $\\omega$:\n",
    "    $$H_0: P \\in \\omega$$\n",
    "- Альтернативная гипотеза $H_1$ – $P$ не лежит в некотором семействе $\\omega$:\n",
    "    $$H_1: P \\notin \\omega$$\n",
    "    \n",
    "Глядя на собранные данные, нужно проверить, какая из гипотез наиболее вероятна. Для этого используется некоторая статистика $Т$, которая обладает свойством – если справедлива $H_0$, то мы точно знаем, какое у этой статистики распределение:\n",
    "    $$T(X^n) \\sim F(x) \\text{, при } H_0$$\n",
    "    $$T(X^n) \\not\\sim F(x) \\text{, при } H_1$$\n",
    "Если верна $H_1$, то статистика $Т$ имеет распределение не $F(x)$, а какое-то другое.\n",
    "- $F(x)$ – нулевое распределение статистики.\n",
    "- Пара $T$ и $F(x)$ образует статистический критерий для проверки нулевой гипотезы против альтернативной.\n",
    "- $t$ – значение статистики на полученных данных.\n",
    "\n",
    "**$p$-value** - достигаемый уровень значимости (вероятность при справедливости $H_0$ можно получить значения статистики $T$ равное $t$ или больше)\n",
    "    $$p=P(T\\geqslant t | H_0).$$\n",
    "Зная нулевое распределение статистики и значение статистики, которое реализовалось в эксперименте, можно посчитать $p$-value.\n",
    "Если критическими (т.е. соответствующими альтернативе) являются большие значения статистики, $p$-value равен интегралу от плотности нулевого распределения по «правому хвосту» на диапазоне $[t, +\\infty]$. Если полученное $p$-value мало – значит, данные свидетельствуют против $H_0$ в пользу $H_1$.\n",
    "$p$-value сравнивается с порогом $\\alpha$ (**уровень значимости**): $H_0$ отвергается в пользу $H_1$ при $p \\leqslant \\alpha$. Чаще всего, $\\alpha=0.05$ (т.е. $95\\%$ доверительный интервал).\n",
    "\n",
    "***"
   ]
  },
  {
   "cell_type": "markdown",
   "metadata": {
    "id": "4Uox-YkUK61f"
   },
   "source": [
    "### Критерий t-Стьюдента\n",
    "\n",
    "**t-критерий Стьюдента** — общее название для статистических тестов, в которых статистика критерия имеет распределение Стьюдента. Наиболее часто t-критерии применяются для проверки равенства средних значений в двух выборках. Нулевая гипотеза предполагает, что средние равны (отрицание этого предположения называют гипотезой сдвига). Для применения данного критерия необходимо, чтобы исходные данные имели нормальное распределение.\n",
    "\n",
    "$$ t = \\frac{\\bar{X_1} - \\bar{X_2}}{se}$$\n",
    "\n",
    "$$ se = \\sqrt{\\frac{sd_1^2}{n_1} + \\frac{sd_2^2}{n_2}} $$\n",
    "\n",
    "Откуда берётся такая формула $se$?:\n",
    "\n",
    "$$ (se_1)^2 = (\\frac{sd_1}{\\sqrt{n_1}})^2 = \\frac{sd_1^2}{n_1} $$\n",
    "\n",
    "То есть:\n",
    "\n",
    "$$ se = \\sqrt{\\frac{sd_1^2}{n_1} + \\frac{sd_2^2}{n_2}} = \\sqrt{se_1^2 + se_2^2} $$\n",
    "\n",
    "причем ответ на вопрос, почему верно это равенство, кроется в свойстве дисперсии: дисперсия суммы независимых случайных величин равна сумме их дисперсий. а отклонение - это корень из дисперсии.\n",
    "\n",
    "<img src='img/student_area.jpg'/>\n",
    "\n",
    "#### Рассмотрим на примере\n",
    "\n",
    "Пусть у нас имеется информация по росту мужчин одного возраста в двух разных студенческих группах с разных факультетов."
   ]
  },
  {
   "cell_type": "code",
   "execution_count": 2,
   "metadata": {
    "colab": {
     "base_uri": "https://localhost:8080/",
     "height": 112
    },
    "executionInfo": {
     "elapsed": 1697,
     "status": "ok",
     "timestamp": 1698092031263,
     "user": {
      "displayName": "Дмитрий Перец",
      "userId": "01071617569948781035"
     },
     "user_tz": -180
    },
    "id": "obBnWD9jK61f",
    "outputId": "6053881f-49f2-4c3a-98e7-991a1299bbb0"
   },
   "outputs": [
    {
     "data": {
      "text/html": [
       "<div>\n",
       "<style scoped>\n",
       "    .dataframe tbody tr th:only-of-type {\n",
       "        vertical-align: middle;\n",
       "    }\n",
       "\n",
       "    .dataframe tbody tr th {\n",
       "        vertical-align: top;\n",
       "    }\n",
       "\n",
       "    .dataframe thead th {\n",
       "        text-align: right;\n",
       "    }\n",
       "</style>\n",
       "<table border=\"1\" class=\"dataframe\">\n",
       "  <thead>\n",
       "    <tr style=\"text-align: right;\">\n",
       "      <th></th>\n",
       "      <th>Размер</th>\n",
       "      <th>Среднее</th>\n",
       "      <th>СКО</th>\n",
       "      <th>SE</th>\n",
       "      <th>Интервал</th>\n",
       "    </tr>\n",
       "  </thead>\n",
       "  <tbody>\n",
       "    <tr>\n",
       "      <th>Группа 1</th>\n",
       "      <td>40.0</td>\n",
       "      <td>167.3625</td>\n",
       "      <td>5.95206</td>\n",
       "      <td>0.941103</td>\n",
       "      <td>1.858045</td>\n",
       "    </tr>\n",
       "    <tr>\n",
       "      <th>Группа 2</th>\n",
       "      <td>40.0</td>\n",
       "      <td>170.9400</td>\n",
       "      <td>6.82412</td>\n",
       "      <td>1.078988</td>\n",
       "      <td>2.129946</td>\n",
       "    </tr>\n",
       "  </tbody>\n",
       "</table>\n",
       "</div>"
      ],
      "text/plain": [
       "          Размер   Среднее      СКО        SE  Интервал\n",
       "Группа 1    40.0  167.3625  5.95206  0.941103  1.858045\n",
       "Группа 2    40.0  170.9400  6.82412  1.078988  2.129946"
      ]
     },
     "execution_count": 2,
     "metadata": {},
     "output_type": "execute_result"
    }
   ],
   "source": [
    "# Импорт необходимых библиотек\n",
    "import pandas as pd\n",
    "from scipy.stats import t\n",
    "import matplotlib.pyplot as plt\n",
    "import numpy as np\n",
    "\n",
    "group1 = np.array([173.2, 172.2, 167.7, 170.4, 172.1, 167.9, 174.6, 163.9,\n",
    "                    174.3, 174.4, 165.5, 174, 164.7, 161.7, 166.6, 161.1,\n",
    "                    156.1, 168.1, 174.5, 161.3, 158.3, 165.4, 155.3, 175.6,\n",
    "                    170.1, 168.5, 164.3, 172.2, 159.7, 160.8, 175.9, 160.4,\n",
    "                    161, 173.8, 162.1, 162.6, 174.9, 169.7, 166.8, 172.8\n",
    "])\n",
    "\n",
    "group2 = np.array([160.7, 161.1, 161.4, 178.1, 171.9, 179.5, 171.4, 178.3,\n",
    "                   176.7, 166.9, 161.8, 181.1, 177.6, 173.9, 173.4, 178.8,\n",
    "                   172.3, 163.9, 160.5, 171.9, 182, 178.8, 166.2, 161.9,\n",
    "                   169.3, 175.8, 169, 178.9, 165.5, 164, 160.7, 176.7,\n",
    "                   178.1, 172.4, 165.3, 172.6, 176, 162.4, 174.9, 165.9\n",
    "])\n",
    "\n",
    "# считаем количество элементов, среднее, стандартное отклонение и стандартную ошибку\n",
    "df = pd.DataFrame({'Группа 1':group1, 'Группа 2':group2}).agg(['count','mean','std','sem']).T\n",
    "df.columns = ['Размер','Среднее','СКО','SE']\n",
    "\n",
    "# рассчитываем 95% интервал отклонения среднего\n",
    "p = 0.95\n",
    "K = t.ppf((1 + p)/2, df['Среднее']-1)\n",
    "df['Интервал'] = K * df['SE']\n",
    "\n",
    "df"
   ]
  },
  {
   "cell_type": "code",
   "execution_count": 3,
   "metadata": {
    "colab": {
     "base_uri": "https://localhost:8080/",
     "height": 1000
    },
    "executionInfo": {
     "elapsed": 787,
     "status": "ok",
     "timestamp": 1698092034755,
     "user": {
      "displayName": "Дмитрий Перец",
      "userId": "01071617569948781035"
     },
     "user_tz": -180
    },
    "id": "wkKmSvKaK61f",
    "outputId": "2aaafabe-ecc3-4563-9d68-0aba3035111a"
   },
   "outputs": [
    {
     "data": {
      "image/png": "[encoded data removed]",
      "text/plain": [
       "<Figure size 2000x1500 with 2 Axes>"
      ]
     },
     "metadata": {},
     "output_type": "display_data"
    }
   ],
   "source": [
    "#строим графики, boxplot из изначальных данных array1, array2,  доверительные интервалы из датафрейма df\n",
    "fig, (ax1, ax2) = plt.subplots(nrows=1, ncols=2, figsize=(20, 15))\n",
    "\n",
    "# график boxplot\n",
    "bplot1 = ax1.boxplot([group1, group2],\n",
    "                     vert=True,\n",
    "                     labels=['Группа 1', 'Группа 2'])\n",
    "\n",
    "# график доверительных интервалов\n",
    "bplot2 = ax2.errorbar(x=df.index,\n",
    "                      y=df['Среднее'],\n",
    "                      yerr=df['Интервал'],\n",
    "                      color=\"black\",\n",
    "                      capsize=5,\n",
    "                      marker=\"s\",\n",
    "                      markersize=4,\n",
    "                      mfc=\"blue\",\n",
    "                      mec=\"black\")\n",
    "\n",
    "# добавим общие для каждого из графиков данные\n",
    "for ax in [ax1, ax2]:\n",
    "    ax.yaxis.grid(True)\n",
    "    ax.set_title('Рост мужчин')\n",
    "    ax.set_xlabel('Сравнение двух групп')\n",
    "    ax.set_ylabel('Рост, см')\n",
    "\n",
    "plt.show()"
   ]
  },
  {
   "cell_type": "markdown",
   "metadata": {
    "id": "Kh9ItZS4K61g"
   },
   "source": [
    "## A/B тесты\n",
    "\n",
    "### Что такое A/B тестирование, зачем и для кого это нужно?\n",
    "\n",
    "У приведенных выше подходов для расчета различных статистик по группам есть очень важное бизнесовое применение. Это A/B-тестирование, позовляющее на основании выделения целевой и контрольной групп, выявлять статистически значимые отличия в поведении этих групп и на основании этих отличий принимать решения об изменении в бизнесе. A/B-тестирование — это неотъемлемая часть процесса работы над продуктом. Это эксперимент, который позволяет сравнить две версии чего-либо, чтобы проверить гипотезы и определить, какая версия лучше. Какая цена лучше, какой дизайн более привлекательный, какая навигация лучше, какой офер более интересен абоненту? Но это не всегда история про успешные тестирования и постоянный рост. В первую очередь надо думать, как не сделать проект хуже.\n",
    "\n",
    "Кому нужно A/B-тестирование? - всем, кто хочет улучшать свой продукт, делать его удобнее и приятнее для целевой аудитории. Например,\n",
    "- Продакт-менеджеры могут тестировать изменения ценовых моделей, направленные на повышение доходов, или оптимизацию части воронки продаж для увеличения конверсии.\n",
    "- Маркетологи могут тестировать изображения, призывы к действию (call-to-action) или практически любые другие элементы маркетинговой кампании или рекламы с точки зрения улучшения метрик.\n",
    "- Продуктовые дизайнеры могут тестировать дизайнерские решения или использовать результаты тестирования для того, чтобы перед внедрением определить, будет ли удобно пользоваться новой функцией.\n",
    "\n",
    "### Основные шаги A/B тестирования:\n",
    "1. определить цель\n",
    "2. выбрать метрику:\n",
    "    - конверсия,\n",
    "    - экономические метрики,\n",
    "    - поведенческие факторы,\n",
    "    - ...\n",
    "3. выдвинуть гипотезу\n",
    "4. настроить эксперимент\n",
    "5. запустить эксперимент\n",
    "6. проанализировать результаты\n",
    "\n",
    "### Как проводить A/B тесты?\n",
    "\n",
    "Нужно определить две гипотезы, которые помогут понять, является ли наблюдаемая разница между версией A (изначальной) и версией B (новой, которую вы хотите проверить) случайностью или результатом изменений, которые вы произвели.\n",
    "\n",
    "**Нулевая гипотеза** предполагает, что результаты, `А` и `В` на самом деле не отличаются и что наблюдаемые различия случайны. Мы надеемся опровергнуть эту гипотезу.\n",
    "**Альтернативная гипотеза** — это гипотеза о том, что `B` отличается от `A`, и вы хотите сделать вывод об её истинности.\n",
    "Можно проводить односторонний или двусторонний тест. Односторонний тест позволяет обнаружить изменение в одном направлении, в то время как двусторонний тест позволяет обнаружить изменение по двум направлениям (как положительное, так и отрицательное).  \n",
    "\n",
    "Для того, чтобы тест выдавал корректные результаты:\n",
    "- Создайте новую версию (B), отражающую изменения, которые вы хотите протестировать.\n",
    "- Определите контрольную и экспериментальную группы. Каких пользователей вы хотите протестировать: всех пользователей на всех платформах или только пользователей из одной страны? Определите группу испытуемых, отобрав их по типам пользователей, платформе, географическим показателям и т. п. Затем определите, какой процент исследуемой группы составляет контрольная группа (группа, видящая версию A), а какой процент — экспериментальная группа (группа, видящая версию B).\n",
    "- Убедитесь, что пользователи будут видеть версии A и B в случайном порядке. Это значит, у каждого пользователя будет равный шанс получить ту или иную версию.\n",
    "- Определите уровень статистической значимости ($\\alpha$). Это уровень риска, который вы принимаете при ошибках первого рода (отклонение нулевой гипотезы, если она верна), обычно $\\alpha = 0.05$. Это означает, что в $5\\%$ случаев вы будете обнаруживать разницу между A и B, которая на самом деле обусловлена случайностью. Чем ниже выбранный вами уровень значимости, тем ниже риск того, что вы обнаружите разницу, вызванную случайностью.\n",
    "- Определите минимальный размер выборки. Наличие достаточно большого размера выборки важно для обеспечения статистически значимых результатов.\n",
    "- Определите временные рамки. Возьмите общий размер выборки, необходимый вам для тестирования каждой версии, и разделите его на ваш ежедневный трафик, так вы получите количество дней, необходимое для проведения теста.\n",
    "\n",
    "Сколько должен длиться эксперимент? Сколько пользователей должно быть в тестовой выборке?\n",
    "\n",
    "Для начала нужно определить следующее:\n",
    "- минимальный размер эффекта, который мы хотим померить (насколько большие отклонения от метрики, которая, мы предполагаем, сохраниться по умолчанию, мы хотим \"замечать\")\n",
    "- допустимые вероятности ошибок первого и второго рода (ошибка первого рода — ситуация, когда отвергнута верная нулевая гипотеза и ошибка второго рода — ситуация, когда принята неверная нулевая гипотеза); стоимости этих ошибок могут существенно отличаться, и в зависимости от этого нужно выбирать пороги.\n",
    "    \n",
    "С помощью калькулятора мощности выбранного статистического критерия можно будет расчитать размеры выборки (калькуляторы [здесь](https://www.optimizely.com/sample-size-calculator/?conversion=3&effect=20&significance=95) и [здесь](https://www.abtasty.com/sample-size-calculator/)).\n",
    "\n",
    "[Калькулятор достоверности A/B тестирования](https://yandex.ru/adv/statvalue).\n",
    "\n",
    "Рассмотрим аналитику A/B теста на примере.\n",
    "***"
   ]
  },
  {
   "cell_type": "markdown",
   "metadata": {
    "id": "IvjeSLsuK61g"
   },
   "source": [
    "# Пример оценки A/B теста\n",
    "\n",
    "Рассмотрим процесс анализа A/B-теста: от формулирования гипотезы и ее проверки до интерпретации результатов. Будем использовать <a href='https://www.kaggle.com/zhangluyuan/ab-testing?select=ab_data.csv'> набор данных от Kaggle </a>, который содержит результаты A/B-тестирования двух разных дизайнов страницы веб-сайта (old_page и new_page).\n",
    "\n",
    "1. [Разработка эксперимента](#1.-Разработка-эксперимента)\n",
    "2. [Предобработка данных](#2.-Предобработка-данных)\n",
    "3. [Визуализация результатов](#3.-Визуализация-результатов)\n",
    "4. [Проверка гипотезы](#4.-Проверка-гипотезы)\n",
    "5. [Выводы](#5.-Выводы)\n",
    "\n",
    "Вот потенциальный **сценарий** для нашего исследования:\n",
    "\n",
    "> Представим, что вы работаете в группе разработчиков **e-commerce компании**. Дизайнер UX поработал над новой версией страницы продукта, надеясь, что это приведет к более высокому коэффициенту конверсии. Менеджер по продукту сказал вам, что **текущий коэффициент конверсии** составляет в среднем **13%** в течение года, и что команда будет довольна **увеличением на 2%**, что означает что новый дизайн будет считаться успешным, если он поднимет коэффициент конверсии до 15%.\n",
    "\n",
    "Перед развертыванием изменения команде было бы удобнее протестировать его на небольшом количестве пользователей, чтобы увидеть, как оно работает, поэтому вы предлагаете выполнить **A/B-тест** на подмножестве пользователей вашей пользовательской базы."
   ]
  },
  {
   "cell_type": "markdown",
   "metadata": {
    "id": "FZgtmoJvK61g"
   },
   "source": [
    "***\n",
    "## 1. Разработка эксперимента"
   ]
  },
  {
   "cell_type": "markdown",
   "metadata": {
    "id": "Blkw6nQiK61g"
   },
   "source": [
    "### Формулирование гипотезы\n",
    "\n",
    "Прежде всего, мы хотим убедиться, что сформулировали гипотезу в начале нашего проекта. Это обеспечит правильность и строгость нашей интерпретации результатов.\n",
    "\n",
    "Поскольку мы не знаем, будет ли новый дизайн работать лучше или хуже (или будет таким же?), чем наш текущий дизайн, мы выберем <a href=\"https://en.wikipedia.org/wiki/One-_and_two-tailed_tests\">**двусторонний тест** </a>:\n",
    "\n",
    "$$ H_0: p = p_0 $$\n",
    "$$ H_a: p \\ne p_0 $$\n",
    "\n",
    "где $p$ и $p_0$ обозначают коэффициент конверсии нового и старого дизайна соответственно. Мы также установим **уровень доверия $95\\%$**:\n",
    "\n",
    "$$ \\alpha = 0,05 $$\n",
    "\n",
    "Значение $ \\alpha $ - это установленный нами порог: «Если вероятность получения результата как экстремального или большего ($p $ -значение) ниже, чем $ \\alpha $, то мы отклоняем нулевую гипотезу». Поскольку $ \\alpha = 0,05 $ (что указывает на вероятность $5\\%$), наша уверенность ($1-\\alpha $) составляет $95\\%$.\n",
    "\n",
    "Какой бы коэффициент конверсии мы ни наблюдали для нашего нового дизайна в нашем тесте, мы хотим быть уверены на $95\\%$, что он статистически отличается от коэффициента конверсии нашего старого дизайна, прежде чем мы решим отвергнуть нулевую гипотезу $ H_0 $."
   ]
  },
  {
   "cell_type": "markdown",
   "metadata": {
    "id": "GzwMM6oUK61g"
   },
   "source": [
    "### Выбор переменных\n",
    "\n",
    "Для нашего теста нам понадобятся **две группы**:\n",
    "* `Контрольная` группа  - им будет показан старый дизайн\n",
    "* `Целевая` группа - им будет показан новый дизайн.\n",
    "\n",
    "Это будет наша *независимая переменная*. Причина, по которой у нас есть две группы, хотя мы знаем базовый коэффициент конверсии, заключается в том, что мы хотим контролировать другие переменные, которые могут повлиять на наши результаты, такие как сезонность: имея `контрольную` группу, мы можем напрямую сравнивать их результаты с `целевой` группой, потому что единственное систематическое различие между группами - это дизайн страницы продукта, и поэтому мы можем связать любые различия в результатах с дизайном.\n",
    "\n",
    "В качестве *зависимой переменной* (т.е. того, что мы пытаемся измерить), мы будем отслеживать `коэффициент конверсии`. Мы можем закодировать это бинарной переменной с помощью каждой пользовательской сессии:\n",
    "* `0` - пользователь не покупал товар во время этой пользовательской сессии.\n",
    "* `1` - пользователь купил продукт во время этой пользовательской сессии.\n",
    "\n",
    "Таким образом, мы можем легко вычислить среднее значение для каждой группы, чтобы получить коэффициент конверсии каждого дизайна."
   ]
  },
  {
   "cell_type": "markdown",
   "metadata": {
    "id": "O7d0-cjiK61h"
   },
   "source": [
    "### Выбор размера выборки\n",
    "\n",
    "Важно отметить, что, т.к. мы не будем тестировать всю базу пользователей, полученные нами коэффициенты конверсии неизбежно будут лишь *оценками* истинных коэффициентов.\n",
    "\n",
    "Количество людей (или пользовательских сеансов), которых мы решаем охватить в каждой группе, повлияет на точность наших расчетных коэффициентов конверсии: **чем больше размер выборки**, тем точнее наши оценки (т.е. тем меньше доверительные интервалы), **тем выше шанс обнаружить разницу** в двух группах, если они есть.\n",
    "\n",
    "С другой стороны, чем больше становится наша выборка, тем дороже становится наше исследование.\n",
    "\n",
    "*Сколько человек должно быть в каждой группе?*\n",
    "\n",
    "Размер необходимой нам выборки оценивается с помощью *анализа мощности*, и это зависит от нескольких факторов:\n",
    "* **Мощность теста** ($ 1 - \\beta $) - представляет собой вероятность обнаружения статистической разницы между группами в нашем тесте, когда разница действительно присутствует. Обычно это значение устанавливается на $0,8$.\n",
    "* **Альфа-значение** ($ \\alpha $) - критическое значение, которое мы ранее установили равным $0,05$.\n",
    "* **Размер эффекта** - насколько большой, по нашему мнению, будет разница между коэффициентами конверсии.\n",
    "\n",
    "Поскольку наша команда была бы довольна разницей в $2\\%$, мы можем использовать $13\\%$ и $15\\%$ для расчета ожидаемого эффекта."
   ]
  },
  {
   "cell_type": "code",
   "execution_count": 6,
   "metadata": {
    "executionInfo": {
     "elapsed": 251,
     "status": "ok",
     "timestamp": 1698092189926,
     "user": {
      "displayName": "Дмитрий Перец",
      "userId": "01071617569948781035"
     },
     "user_tz": -180
    },
    "id": "aeysYBbqK61h"
   },
   "outputs": [],
   "source": [
    "# Импорт необходимых библиотек\n",
    "import numpy as np\n",
    "import pandas as pd\n",
    "import scipy.stats as stats\n",
    "import statsmodels.stats.api as sms\n",
    "import matplotlib as mpl\n",
    "import matplotlib.pyplot as plt\n",
    "import seaborn as sns\n",
    "from math import ceil\n",
    "from statsmodels.stats.proportion import proportions_ztest, proportion_confint\n",
    "\n",
    "%matplotlib inline"
   ]
  },
  {
   "cell_type": "code",
   "execution_count": 7,
   "metadata": {
    "id": "Xevy71GpK61h"
   },
   "outputs": [],
   "source": [
    "# Посчитаем ожидаем прирост эффекта на основании выбранных изменений в конверсии от 13% к 15%\n",
    "effect_size = sms.proportion_effectsize(0.13, 0.15)\n",
    "\n",
    "# Расчет необходимого размера выборки\n",
    "required_n = sms.NormalIndPower().solve_power(\n",
    "    effect_size,\n",
    "    power=0.8,\n",
    "    alpha=0.05,\n",
    "    ratio=1\n",
    ")"
   ]
  },
  {
   "cell_type": "markdown",
   "metadata": {
    "id": "OgPl7rqPK61h"
   },
   "source": [
    "Установка параметра `мощности` на $0.8$ на практике означает, что если существует реальная разница в коэффициенте конверсии между нашими проектами, предполагая, что разница является той, которую мы оценили ($13\\%$ против $15\\%$), у нас есть $80\\%$ шанс определить его как статистически значимый в нашем тесте с размером выборки, который мы рассчитали."
   ]
  },
  {
   "cell_type": "markdown",
   "metadata": {
    "id": "U5S8v4mzK61h"
   },
   "source": [
    "***\n",
    "## 2. Предобработка данных"
   ]
  },
  {
   "cell_type": "markdown",
   "metadata": {
    "id": "bImn8Y1XK61h"
   },
   "source": [
    "Теперь, когда у нас есть требуемый размер выборки, нам нужно собрать данные. Обычно на этом этапе нужно настроить эксперимент и убедиться, что собрано достаточно данных на основе необходимого размера выборки.\n",
    "\n",
    "Поскольку мы используем набор данных, который мы нашли в Интернете, для моделирования этой ситуации:\n",
    "1. Загрузим <a href='https://www.kaggle.com/zhangluyuan/ab-testing?select=ab_data.csv'> набор данных из Kaggle </a>.\n",
    "2. Считаем данные в pandas DataFrame.\n",
    "3. Проверим и очистим данные.\n",
    "4. Выберем из датасета количество точек, которое мы получили на предыдущем шаге.\n",
    "\n",
    "***Примечание**: Обычно нам не нужно выполнять шаг 4, это только ради упражнения."
   ]
  },
  {
   "cell_type": "code",
   "execution_count": 10,
   "metadata": {
    "colab": {
     "base_uri": "https://localhost:8080/",
     "height": 206
    },
    "executionInfo": {
     "elapsed": 1295,
     "status": "ok",
     "timestamp": 1698092358802,
     "user": {
      "displayName": "Дмитрий Перец",
      "userId": "01071617569948781035"
     },
     "user_tz": -180
    },
    "id": "wflEuN8eK61h",
    "outputId": "fc108ca2-79d8-4708-a1cf-c28aff9cfb86"
   },
   "outputs": [
    {
     "data": {
      "text/html": [
       "<div>\n",
       "<style scoped>\n",
       "    .dataframe tbody tr th:only-of-type {\n",
       "        vertical-align: middle;\n",
       "    }\n",
       "\n",
       "    .dataframe tbody tr th {\n",
       "        vertical-align: top;\n",
       "    }\n",
       "\n",
       "    .dataframe thead th {\n",
       "        text-align: right;\n",
       "    }\n",
       "</style>\n",
       "<table border=\"1\" class=\"dataframe\">\n",
       "  <thead>\n",
       "    <tr style=\"text-align: right;\">\n",
       "      <th></th>\n",
       "      <th>user_id</th>\n",
       "      <th>timestamp</th>\n",
       "      <th>group</th>\n",
       "      <th>landing_page</th>\n",
       "      <th>converted</th>\n",
       "    </tr>\n",
       "  </thead>\n",
       "  <tbody>\n",
       "    <tr>\n",
       "      <th>0</th>\n",
       "      <td>851104</td>\n",
       "      <td>2017-01-21 22:11:48.556739</td>\n",
       "      <td>control</td>\n",
       "      <td>old_page</td>\n",
       "      <td>0</td>\n",
       "    </tr>\n",
       "    <tr>\n",
       "      <th>1</th>\n",
       "      <td>804228</td>\n",
       "      <td>2017-01-12 08:01:45.159739</td>\n",
       "      <td>control</td>\n",
       "      <td>old_page</td>\n",
       "      <td>0</td>\n",
       "    </tr>\n",
       "    <tr>\n",
       "      <th>2</th>\n",
       "      <td>661590</td>\n",
       "      <td>2017-01-11 16:55:06.154213</td>\n",
       "      <td>treatment</td>\n",
       "      <td>new_page</td>\n",
       "      <td>0</td>\n",
       "    </tr>\n",
       "    <tr>\n",
       "      <th>3</th>\n",
       "      <td>853541</td>\n",
       "      <td>2017-01-08 18:28:03.143765</td>\n",
       "      <td>treatment</td>\n",
       "      <td>new_page</td>\n",
       "      <td>0</td>\n",
       "    </tr>\n",
       "    <tr>\n",
       "      <th>4</th>\n",
       "      <td>864975</td>\n",
       "      <td>2017-01-21 01:52:26.210827</td>\n",
       "      <td>control</td>\n",
       "      <td>old_page</td>\n",
       "      <td>1</td>\n",
       "    </tr>\n",
       "  </tbody>\n",
       "</table>\n",
       "</div>"
      ],
      "text/plain": [
       "   user_id                   timestamp      group landing_page  converted\n",
       "0   851104  2017-01-21 22:11:48.556739    control     old_page          0\n",
       "1   804228  2017-01-12 08:01:45.159739    control     old_page          0\n",
       "2   661590  2017-01-11 16:55:06.154213  treatment     new_page          0\n",
       "3   853541  2017-01-08 18:28:03.143765  treatment     new_page          0\n",
       "4   864975  2017-01-21 01:52:26.210827    control     old_page          1"
      ]
     },
     "execution_count": 10,
     "metadata": {},
     "output_type": "execute_result"
    }
   ],
   "source": [
    "# чтение данных из csv файла\n",
    "df = pd.read_csv('data/ab_data.csv')\n",
    "\n",
    "# выведем первые 10 строк\n",
    "df.head()"
   ]
  },
  {
   "cell_type": "code",
   "execution_count": 11,
   "metadata": {
    "colab": {
     "base_uri": "https://localhost:8080/"
    },
    "executionInfo": {
     "elapsed": 276,
     "status": "ok",
     "timestamp": 1698092368356,
     "user": {
      "displayName": "Дмитрий Перец",
      "userId": "01071617569948781035"
     },
     "user_tz": -180
    },
    "id": "ZIe1VIV3K61h",
    "outputId": "3b36d114-3749-4d97-c543-8878a98ad344"
   },
   "outputs": [
    {
     "name": "stdout",
     "output_type": "stream",
     "text": [
      "<class 'pandas.core.frame.DataFrame'>\n",
      "RangeIndex: 294478 entries, 0 to 294477\n",
      "Data columns (total 5 columns):\n",
      " #   Column        Non-Null Count   Dtype \n",
      "---  ------        --------------   ----- \n",
      " 0   user_id       294478 non-null  int64 \n",
      " 1   timestamp     294478 non-null  object\n",
      " 2   group         294478 non-null  object\n",
      " 3   landing_page  294478 non-null  object\n",
      " 4   converted     294478 non-null  int64 \n",
      "dtypes: int64(2), object(3)\n",
      "memory usage: 11.2+ MB\n"
     ]
    }
   ],
   "source": [
    "# выведем информацию по датафрейму\n",
    "df.info()"
   ]
  },
  {
   "cell_type": "markdown",
   "metadata": {
    "id": "OkcyLJE_K61h"
   },
   "source": [
    "У нас **294478 строк**, каждая из которых представляет сеанс пользователя, а также **5 столбцов**:\n",
    "* `user_id` - ID пользователя каждой сессии\n",
    "* `timestamp` - времея сеанса\n",
    "* `group` - группа пользователя для этого сеанса {`control`, `treatment`}\n",
    "* `landing_page` - какой дизайн каждый пользователь видел в этом сеансе {` old_page`, `new_page`}\n",
    "* `convert` - завершился ли сеанс конверсией или нет (двоичный,` 0` = без конверсии, `1` = с конверсией)\n",
    "\n",
    "Будем использовать для анализа столбцы «group» и «convert».\n",
    "\n",
    "Необходимо проверить, что нет пользователей, которые были выбраны несколько раз и что не было пользователей, которые видели не свою версию сайта (т.е. `целевая` только `new`, `контрольная` только `old`)"
   ]
  },
  {
   "cell_type": "markdown",
   "metadata": {
    "id": "2Ln5zR9dK61i"
   },
   "source": [
    "Видим, что пропусков в данных нет и можно далее анализировать таблицу"
   ]
  },
  {
   "cell_type": "markdown",
   "metadata": {
    "id": "Md-_1hF8K61i"
   },
   "source": [
    "> # Задание\n",
    ">\n",
    "> При помощи pd.crosstab проверить, нет ли подглядываний в таблице. Т.е. не видели ли пользователи из целевой группы старую версию и из контрольной новую."
   ]
  },
  {
   "cell_type": "code",
   "execution_count": 13,
   "metadata": {
    "id": "jbq1ryeyK61i"
   },
   "outputs": [
    {
     "data": {
      "text/html": [
       "<div>\n",
       "<style scoped>\n",
       "    .dataframe tbody tr th:only-of-type {\n",
       "        vertical-align: middle;\n",
       "    }\n",
       "\n",
       "    .dataframe tbody tr th {\n",
       "        vertical-align: top;\n",
       "    }\n",
       "\n",
       "    .dataframe thead th {\n",
       "        text-align: right;\n",
       "    }\n",
       "</style>\n",
       "<table border=\"1\" class=\"dataframe\">\n",
       "  <thead>\n",
       "    <tr style=\"text-align: right;\">\n",
       "      <th>landing_page</th>\n",
       "      <th>new_page</th>\n",
       "      <th>old_page</th>\n",
       "    </tr>\n",
       "    <tr>\n",
       "      <th>group</th>\n",
       "      <th></th>\n",
       "      <th></th>\n",
       "    </tr>\n",
       "  </thead>\n",
       "  <tbody>\n",
       "    <tr>\n",
       "      <th>control</th>\n",
       "      <td>1928</td>\n",
       "      <td>145274</td>\n",
       "    </tr>\n",
       "    <tr>\n",
       "      <th>treatment</th>\n",
       "      <td>145311</td>\n",
       "      <td>1965</td>\n",
       "    </tr>\n",
       "  </tbody>\n",
       "</table>\n",
       "</div>"
      ],
      "text/plain": [
       "landing_page  new_page  old_page\n",
       "group                           \n",
       "control           1928    145274\n",
       "treatment       145311      1965"
      ]
     },
     "execution_count": 13,
     "metadata": {},
     "output_type": "execute_result"
    }
   ],
   "source": [
    "# Проверим, не было ли \"подглядываний\"\n",
    "pd.crosstab(df.group, df.landing_page)"
   ]
  },
  {
   "cell_type": "markdown",
   "metadata": {
    "id": "OhpcMqTxK61i"
   },
   "source": [
    "> # Задание\n",
    ">\n",
    "> Если подглядывания есть, то необходимо удалить такие записи"
   ]
  },
  {
   "cell_type": "code",
   "execution_count": 16,
   "metadata": {
    "id": "yXyJjD8wK61i"
   },
   "outputs": [],
   "source": [
    "# Удалить \"подглядывания\"\n",
    "\n",
    "false_control = ((df.group == 'control') & (df.landing_page == 'old_page'))\n",
    "false_treat = ((df.group == 'treatment') & (df.landing_page == 'new_page'))\n",
    "\n",
    "df = df[false_control | false_treat]"
   ]
  },
  {
   "cell_type": "code",
   "execution_count": 17,
   "metadata": {
    "id": "pcnSQRkgK61i"
   },
   "outputs": [
    {
     "data": {
      "text/html": [
       "<div>\n",
       "<style scoped>\n",
       "    .dataframe tbody tr th:only-of-type {\n",
       "        vertical-align: middle;\n",
       "    }\n",
       "\n",
       "    .dataframe tbody tr th {\n",
       "        vertical-align: top;\n",
       "    }\n",
       "\n",
       "    .dataframe thead th {\n",
       "        text-align: right;\n",
       "    }\n",
       "</style>\n",
       "<table border=\"1\" class=\"dataframe\">\n",
       "  <thead>\n",
       "    <tr style=\"text-align: right;\">\n",
       "      <th>landing_page</th>\n",
       "      <th>new_page</th>\n",
       "      <th>old_page</th>\n",
       "    </tr>\n",
       "    <tr>\n",
       "      <th>group</th>\n",
       "      <th></th>\n",
       "      <th></th>\n",
       "    </tr>\n",
       "  </thead>\n",
       "  <tbody>\n",
       "    <tr>\n",
       "      <th>control</th>\n",
       "      <td>0</td>\n",
       "      <td>145274</td>\n",
       "    </tr>\n",
       "    <tr>\n",
       "      <th>treatment</th>\n",
       "      <td>145311</td>\n",
       "      <td>0</td>\n",
       "    </tr>\n",
       "  </tbody>\n",
       "</table>\n",
       "</div>"
      ],
      "text/plain": [
       "landing_page  new_page  old_page\n",
       "group                           \n",
       "control              0    145274\n",
       "treatment       145311         0"
      ]
     },
     "execution_count": 17,
     "metadata": {},
     "output_type": "execute_result"
    }
   ],
   "source": [
    "# При помощи pd.crosstab убедиться, что подглядываний нет\n",
    "pd.crosstab(df.group, df.landing_page)"
   ]
  },
  {
   "cell_type": "markdown",
   "metadata": {
    "id": "0NXBwsSPK61i"
   },
   "source": [
    "> # Задание\n",
    ">\n",
    "> Проверить, есть ли пользователи, которые встречаются несколько раз в выборке"
   ]
  },
  {
   "cell_type": "code",
   "execution_count": 18,
   "metadata": {
    "id": "UOfpo5wQK61i"
   },
   "outputs": [
    {
     "data": {
      "text/plain": [
       "1"
      ]
     },
     "execution_count": 18,
     "metadata": {},
     "output_type": "execute_result"
    }
   ],
   "source": [
    "# Проверить, есть ли пользователи, которые встречаются более 1 раза\n",
    "df.user_id.duplicated().sum()"
   ]
  },
  {
   "cell_type": "markdown",
   "metadata": {
    "id": "W2y6y4EbK61i"
   },
   "source": [
    "> # Задание\n",
    ">\n",
    "> Если есть пользователи, которые появляются более одного раза. то необходимо удалить их из данных, чтобы избежать дублирования в выборке."
   ]
  },
  {
   "cell_type": "code",
   "execution_count": 19,
   "metadata": {
    "id": "sIuCoTQmK61i"
   },
   "outputs": [],
   "source": [
    "# Если есть, то удалить пользователей, которые встречаются более 1 раза\n",
    "df.drop_duplicates('user_id', inplace=True)"
   ]
  },
  {
   "cell_type": "code",
   "execution_count": 20,
   "metadata": {},
   "outputs": [
    {
     "data": {
      "text/plain": [
       "0"
      ]
     },
     "execution_count": 20,
     "metadata": {},
     "output_type": "execute_result"
    }
   ],
   "source": [
    "df.user_id.duplicated().sum()"
   ]
  },
  {
   "cell_type": "markdown",
   "metadata": {
    "id": "WiOzBbPmK61i"
   },
   "source": [
    "### Выборка\n",
    "\n",
    "Теперь, когда данные чистые, мы можем выбрать `required_n` записей для каждой из групп. Для этого мы можем использовать метод pandas `DataFrame.sample()`, который выберет случайную выборку. Зафиксируем при этом `random_state`, чтобы получать одни и те же результаты."
   ]
  },
  {
   "cell_type": "code",
   "execution_count": 25,
   "metadata": {
    "id": "-jqHUH2IK61j"
   },
   "outputs": [],
   "source": [
    "# Сформируем контрольную группу\n",
    "control_sample = df[df['group'] == 'control'].sample(n=int(required_n), random_state=22)\n",
    "\n",
    "# Сформируйте целевую группу такого же размера и с тем же random_state\n",
    "treatment_sample = df[df.group == 'treatment'].sample(n=int(required_n), random_state=22)\n",
    "\n",
    "# Объединим полученные наборы данных\n",
    "ab_test = pd.concat([control_sample, treatment_sample], axis=0)\n",
    "ab_test.reset_index(drop=True, inplace=True)"
   ]
  },
  {
   "cell_type": "markdown",
   "metadata": {
    "id": "bHDtUSOFK61j"
   },
   "source": [
    "> # Задание\n",
    ">\n",
    "> Проверьте, что в ab_test все в порядке. Нет пустых записей, дублей, подглядываний, размеры соответствуют `required_n`"
   ]
  },
  {
   "cell_type": "code",
   "execution_count": 27,
   "metadata": {
    "id": "-JLTCfhkK61j"
   },
   "outputs": [
    {
     "name": "stdout",
     "output_type": "stream",
     "text": [
      "<class 'pandas.core.frame.DataFrame'>\n",
      "RangeIndex: 9438 entries, 0 to 9437\n",
      "Data columns (total 5 columns):\n",
      " #   Column        Non-Null Count  Dtype \n",
      "---  ------        --------------  ----- \n",
      " 0   user_id       9438 non-null   int64 \n",
      " 1   timestamp     9438 non-null   object\n",
      " 2   group         9438 non-null   object\n",
      " 3   landing_page  9438 non-null   object\n",
      " 4   converted     9438 non-null   int64 \n",
      "dtypes: int64(2), object(3)\n",
      "memory usage: 368.8+ KB\n"
     ]
    }
   ],
   "source": [
    "# Все ли ок с ab_test?\n",
    "ab_test.info()"
   ]
  },
  {
   "cell_type": "code",
   "execution_count": 32,
   "metadata": {},
   "outputs": [
    {
     "data": {
      "text/plain": [
       "0"
      ]
     },
     "execution_count": 32,
     "metadata": {},
     "output_type": "execute_result"
    }
   ],
   "source": [
    "ab_test.user_id.duplicated().sum()"
   ]
  },
  {
   "cell_type": "code",
   "execution_count": 31,
   "metadata": {},
   "outputs": [
    {
     "data": {
      "text/plain": [
       "0"
      ]
     },
     "execution_count": 31,
     "metadata": {},
     "output_type": "execute_result"
    }
   ],
   "source": [
    "len(ab_test) - 2 * int(required_n)"
   ]
  },
  {
   "cell_type": "markdown",
   "metadata": {
    "id": "pHITWTtYK61j"
   },
   "source": [
    "***\n",
    "## 3. Визуализация результатов"
   ]
  },
  {
   "cell_type": "markdown",
   "metadata": {
    "id": "-kvksyNkK61j"
   },
   "source": [
    "> # Задание\n",
    ">\n",
    "> Вычислите **основные статистики**, чтобы получить представление о том, как выглядят наши данные. Среднее, стандартное отклонение и стандартную ошибку ($\\frac{std}{\\sqrt(n)}$)"
   ]
  },
  {
   "cell_type": "code",
   "execution_count": 36,
   "metadata": {
    "id": "ldIaSbU2K61j"
   },
   "outputs": [
    {
     "data": {
      "text/html": [
       "<div>\n",
       "<style scoped>\n",
       "    .dataframe tbody tr th:only-of-type {\n",
       "        vertical-align: middle;\n",
       "    }\n",
       "\n",
       "    .dataframe tbody tr th {\n",
       "        vertical-align: top;\n",
       "    }\n",
       "\n",
       "    .dataframe thead th {\n",
       "        text-align: right;\n",
       "    }\n",
       "</style>\n",
       "<table border=\"1\" class=\"dataframe\">\n",
       "  <thead>\n",
       "    <tr style=\"text-align: right;\">\n",
       "      <th></th>\n",
       "      <th>Количество</th>\n",
       "      <th>Среднее</th>\n",
       "      <th>Стандартное отклонение</th>\n",
       "      <th>Стандартная ошибка</th>\n",
       "    </tr>\n",
       "    <tr>\n",
       "      <th>group</th>\n",
       "      <th></th>\n",
       "      <th></th>\n",
       "      <th></th>\n",
       "      <th></th>\n",
       "    </tr>\n",
       "  </thead>\n",
       "  <tbody>\n",
       "    <tr>\n",
       "      <th>control</th>\n",
       "      <td>4719</td>\n",
       "      <td>0.120364</td>\n",
       "      <td>0.325422</td>\n",
       "      <td>0.004737</td>\n",
       "    </tr>\n",
       "    <tr>\n",
       "      <th>treatment</th>\n",
       "      <td>4719</td>\n",
       "      <td>0.117822</td>\n",
       "      <td>0.322431</td>\n",
       "      <td>0.004694</td>\n",
       "    </tr>\n",
       "  </tbody>\n",
       "</table>\n",
       "</div>"
      ],
      "text/plain": [
       "           Количество   Среднее  Стандартное отклонение  Стандартная ошибка\n",
       "group                                                                      \n",
       "control          4719  0.120364                0.325422            0.004737\n",
       "treatment        4719  0.117822                0.322431            0.004694"
      ]
     },
     "execution_count": 36,
     "metadata": {},
     "output_type": "execute_result"
    }
   ],
   "source": [
    "conversion_rates = ab_test.groupby('group')['converted'].agg(['count','mean','std','sem'])\n",
    "conversion_rates.columns = ['Количество','Среднее','Стандартное отклонение','Стандартная ошибка']\n",
    "conversion_rates"
   ]
  },
  {
   "cell_type": "markdown",
   "metadata": {
    "id": "pPUA-NsOK61m"
   },
   "source": [
    "> # Вопрос\n",
    ">\n",
    "> Похожи ли поведения клиентов?"
   ]
  },
  {
   "cell_type": "code",
   "execution_count": 37,
   "metadata": {
    "id": "_P893k1yK61m"
   },
   "outputs": [
    {
     "name": "stderr",
     "output_type": "stream",
     "text": [
      "C:\\Users\\Permy\\AppData\\Local\\Temp\\ipykernel_15536\\1510267236.py:3: FutureWarning: \n",
      "\n",
      "The `ci` parameter is deprecated. Use `errorbar=('ci', False)` for the same effect.\n",
      "\n",
      "  sns.barplot(x=ab_test['group'], y=ab_test['converted'], ci=False)\n"
     ]
    },
    {
     "data": {
      "image/png": "[encoded data removed]",
      "text/plain": [
       "<Figure size 800x600 with 1 Axes>"
      ]
     },
     "metadata": {},
     "output_type": "display_data"
    }
   ],
   "source": [
    "plt.figure(figsize=(8,6))\n",
    "\n",
    "sns.barplot(x=ab_test['group'], y=ab_test['converted'], ci=False)\n",
    "\n",
    "plt.ylim(0, 0.17)\n",
    "plt.title('Conversion rate by group', pad=20)\n",
    "plt.xlabel('Group', labelpad=15)\n",
    "plt.ylabel('Converted (proportion)', labelpad=15);"
   ]
  },
  {
   "cell_type": "markdown",
   "metadata": {
    "id": "Z-mIYKKkK61m"
   },
   "source": [
    "А теперь давайте ответим на вопрос **Является ли разница статистически значимой?**"
   ]
  },
  {
   "cell_type": "markdown",
   "metadata": {
    "id": "NOBCff4vK61m"
   },
   "source": [
    "***\n",
    "## 4. Проверка гипотезы"
   ]
  },
  {
   "cell_type": "markdown",
   "metadata": {
    "id": "_2wTq_AjK61m"
   },
   "source": [
    "Поскольку у нас большая выборка, мы можем использовать нормальное приближение для вычисления нашего $p$-значения (т.е. z-тест).\n",
    "\n",
    "Мы можем использовать модуль `statsmodels.stats.proportion`, чтобы получить $p$-значение и доверительные интервалы:"
   ]
  },
  {
   "cell_type": "code",
   "execution_count": 38,
   "metadata": {
    "id": "HjpvvcSpK61m"
   },
   "outputs": [],
   "source": [
    "control_results = ab_test[ab_test['group'] == 'control']['converted']\n",
    "treatment_results = ab_test[ab_test['group'] == 'treatment']['converted']"
   ]
  },
  {
   "cell_type": "markdown",
   "metadata": {
    "id": "Oyf_iSSGK61m",
    "papermill": {
     "duration": 0.027679,
     "end_time": "2021-07-26T13:20:46.794207",
     "exception": false,
     "start_time": "2021-07-26T13:20:46.766528",
     "status": "completed"
    },
    "tags": []
   },
   "source": [
    "Пусть $X$ - переменная, описывающая контрольную группу, а $Y$ - переменная, описывающая целевую группу. Имеем: $X \\sim Bin(n,p_1)$ и $Y \\sim Bin(m,p_2)$. Гипотезы:\n",
    "\n",
    "\\\\[ \\begin{array}{ll} H_0 :& p_1 = p_2 \\\\\n",
    "H_1 :& p_1 \\neq p_2\\\\ \\end{array} \\\\]\n",
    "\n",
    "\n",
    "Целью нашего теста является сравнение двух конверсий. Так как наши переменные биномиальные, статистика имеет следующий вид:\n",
    "\\\\[ Z = \\frac{ \\hat{Y} - \\hat{X} }{\\sqrt{P(1-P)( \\frac{1}{n} + \\frac{1}{m})}} \\\\]\n",
    "\\\\[ \\begin{array}{ll} \\hat{X} & \\mbox{эмпирическое среднее контрольной группы}\\\\\n",
    "\\hat{Y} & \\mbox{эмпирическое среднее целевой группы}\\\\\n",
    "n & \\mbox{размер контрольной группы} \\\\\n",
    "m & \\mbox{размер целевой группы} \\\\\n",
    "P = \\frac{n\\hat{X} + m\\hat{Y}}{n+m} & \\mbox{}\n",
    "\\end{array} \\\\]\n",
    "При верной $H_0$ имеем: $Z \\sim \\mathit{N}(0,1)$.\n",
    "\n",
    "Рассчитаем значения z статистики и $p$-значение с помощью библиотеки `statsmodels`:"
   ]
  },
  {
   "cell_type": "code",
   "execution_count": 40,
   "metadata": {
    "id": "LdyFe0zzK61n"
   },
   "outputs": [
    {
     "name": "stdout",
     "output_type": "stream",
     "text": [
      "z statistic: 0.38\n",
      "p-value: 0.703\n",
      "confidence interval 95% for control group: [0.111, 0.130]\n",
      "confidence interval 95% for treatment group: [0.109, 0.127]\n"
     ]
    }
   ],
   "source": [
    "successes = [control_results.sum(), treatment_results.sum()]\n",
    "nobs = [len(control_results), len(treatment_results)]\n",
    "\n",
    "z_stat, pval = proportions_ztest(successes, nobs=nobs)\n",
    "(lower_con, lower_treat), (upper_con, upper_treat) = proportion_confint(successes, nobs=nobs, alpha=0.05)\n",
    "\n",
    "print(f'z statistic: {z_stat:.2f}')\n",
    "print(f'p-value: {pval:.3f}')\n",
    "print(f'confidence interval 95% for control group: [{lower_con:.3f}, {upper_con:.3f}]')\n",
    "print(f'confidence interval 95% for treatment group: [{lower_treat:.3f}, {upper_treat:.3f}]')"
   ]
  },
  {
   "cell_type": "markdown",
   "metadata": {},
   "source": [
    "**p-value превысило заданный порог в 5%, поэтому отвергнуть нулевую гипотезу нельзя**"
   ]
  }
 ],
 "metadata": {
  "colab": {
   "provenance": []
  },
  "kernelspec": {
   "display_name": "ml",
   "language": "python",
   "name": "ml"
  },
  "language_info": {
   "codemirror_mode": {
    "name": "ipython",
    "version": 3
   },
   "file_extension": ".py",
   "mimetype": "text/x-python",
   "name": "python",
   "nbconvert_exporter": "python",
   "pygments_lexer": "ipython3",
   "version": "3.10.13"
  }
 },
 "nbformat": 4,
 "nbformat_minor": 4
}
